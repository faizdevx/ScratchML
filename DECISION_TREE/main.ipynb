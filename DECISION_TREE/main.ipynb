{
 "cells": [
  {
   "cell_type": "code",
   "execution_count": 2,
   "id": "b4aaed15",
   "metadata": {},
   "outputs": [],
   "source": [
    "import pandas as pd\n",
    "import numpy as np\n",
    "from collections import Counter\n"
   ]
  },
  {
   "cell_type": "code",
   "execution_count": 3,
   "id": "39f2bab2",
   "metadata": {},
   "outputs": [],
   "source": [
    "df = pd.read_csv('data.csv')\n"
   ]
  },
  {
   "cell_type": "code",
   "execution_count": 4,
   "id": "112058d3",
   "metadata": {},
   "outputs": [
    {
     "name": "stdout",
     "output_type": "stream",
     "text": [
      "  Humidity    Wind Temperature Rain\n",
      "0     High  Strong         Hot   No\n",
      "1     High    Weak         Hot   No\n",
      "2     High  Strong        Mild  Yes\n",
      "3   Medium    Weak        Cool  Yes\n",
      "4      Low    Weak        Cool  Yes\n"
     ]
    }
   ],
   "source": [
    "print(df.head())\n",
    "X = df.drop('Rain', axis=1)\n",
    "y = df['Rain']"
   ]
  },
  {
   "cell_type": "code",
   "execution_count": 5,
   "id": "125e27c4",
   "metadata": {},
   "outputs": [],
   "source": [
    "from sklearn.preprocessing import LabelEncoder\n",
    "\n",
    "\n",
    "label_encoders = {}\n",
    "for column in X.columns:\n",
    "    le = LabelEncoder()\n",
    "    X[column] = le.fit_transform(X[column])\n",
    "    label_encoders[column] = le\n",
    "target_encoder = LabelEncoder()\n",
    "y = target_encoder.fit_transform(y)\n",
    "\n",
    "\n",
    "data = X.copy()\n",
    "data['Rain'] = y"
   ]
  },
  {
   "cell_type": "code",
   "execution_count": 6,
   "id": "8560b7d7",
   "metadata": {},
   "outputs": [],
   "source": [
    "import numpy as np\n",
    "\n",
    "def entropy(y):\n",
    "    \n",
    "    vals, counts = np.unique(y, return_counts=True)\n",
    "    probs = counts / counts.sum()\n",
    "    return -np.sum(probs * np.log2(probs))\n",
    "\n",
    "def information_gain(data, split_attr, target_attr):\n",
    "    \n",
    "    total_entropy = entropy(data[target_attr])\n",
    "    values, counts = np.unique(data[split_attr], return_counts=True)\n",
    "    weighted_entropy = 0\n",
    "\n",
    "    for v, c in zip(values, counts):\n",
    "        subset = data[data[split_attr] == v]\n",
    "        weighted_entropy += (c / len(data)) * entropy(subset[target_attr])\n",
    "\n",
    "    return total_entropy - weighted_entropy\n"
   ]
  },
  {
   "cell_type": "code",
   "execution_count": 7,
   "id": "8a30157f",
   "metadata": {},
   "outputs": [],
   "source": [
    "def build_tree(data, features, target_attr):\n",
    "    # If all examples have same class, return that class\n",
    "    if len(np.unique(data[target_attr])) == 1:\n",
    "        return np.unique(data[target_attr])[0]\n",
    "    \n",
    "    # If no features left, return most common target value\n",
    "    if len(features) == 0:\n",
    "        return data[target_attr].mode()[0]\n",
    "    \n",
    "    # Find best feature to split on\n",
    "    gains = [information_gain(data, feature, target_attr) for feature in features]\n",
    "    best_feature = features[np.argmax(gains)]\n",
    "    \n",
    "    tree = {best_feature: {}}\n",
    "    feature_values = np.unique(data[best_feature])\n",
    "    \n",
    "    for value in feature_values:\n",
    "        subset = data[data[best_feature] == value]\n",
    "        subtree = build_tree(subset, [f for f in features if f != best_feature], target_attr)\n",
    "        tree[best_feature][value] = subtree\n",
    "\n",
    "    return tree\n"
   ]
  },
  {
   "cell_type": "code",
   "execution_count": 8,
   "id": "6d612a8a",
   "metadata": {},
   "outputs": [
    {
     "name": "stdout",
     "output_type": "stream",
     "text": [
      "{'Humidity': {0: {'Wind': {0: {'Temperature': {1: 0, 2: 1}}, 1: 0}}, 1: {'Wind': {0: {'Temperature': {0: 0, 1: 1}}, 1: 1}}, 2: 1}}\n"
     ]
    }
   ],
   "source": [
    "features = list(X.columns)\n",
    "tree = build_tree(data, features, 'Rain')\n",
    "print(tree)\n"
   ]
  },
  {
   "cell_type": "code",
   "execution_count": 9,
   "id": "6b3aa305",
   "metadata": {},
   "outputs": [],
   "source": [
    "def predict(tree, sample):\n",
    "    for attr in tree:\n",
    "        value = sample[attr]\n",
    "        subtree = tree[attr].get(value)\n",
    "        if isinstance(subtree, dict):\n",
    "            return predict(subtree, sample)\n",
    "        else:\n",
    "            return subtree\n"
   ]
  },
  {
   "cell_type": "code",
   "execution_count": 10,
   "id": "91b5d79d",
   "metadata": {},
   "outputs": [
    {
     "name": "stdout",
     "output_type": "stream",
     "text": [
      "Predicted: No\n"
     ]
    }
   ],
   "source": [
    "sample = X.iloc[0].to_dict()  # First example\n",
    "prediction = predict(tree, sample)\n",
    "print(\"Predicted:\", target_encoder.inverse_transform([prediction])[0])\n"
   ]
  }
 ],
 "metadata": {
  "kernelspec": {
   "display_name": "Python 3",
   "language": "python",
   "name": "python3"
  },
  "language_info": {
   "codemirror_mode": {
    "name": "ipython",
    "version": 3
   },
   "file_extension": ".py",
   "mimetype": "text/x-python",
   "name": "python",
   "nbconvert_exporter": "python",
   "pygments_lexer": "ipython3",
   "version": "3.12.6"
  }
 },
 "nbformat": 4,
 "nbformat_minor": 5
}
