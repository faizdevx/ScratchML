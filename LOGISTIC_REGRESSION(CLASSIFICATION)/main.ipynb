{
 "cells": [
  {
   "cell_type": "code",
   "execution_count": 2,
   "id": "fe174ae6",
   "metadata": {},
   "outputs": [],
   "source": [
    "import numpy as np\n",
    "import matplotlib.pyplot as plt     \n",
    "import seaborn as sns"
   ]
  },
  {
   "cell_type": "code",
   "execution_count": 3,
   "id": "a679343e",
   "metadata": {},
   "outputs": [],
   "source": [
    "X=np.array([1,2,3,4,5,7])\n",
    "Y=np.array([0,1,0,0,1,1])\n",
    "\n",
    "\n",
    "w=2\n",
    "b=1"
   ]
  },
  {
   "cell_type": "code",
   "execution_count": 4,
   "id": "b401fa64",
   "metadata": {},
   "outputs": [],
   "source": [
    "def sigmoid(z):\n",
    "    return 1 / (1 + np.exp(-z))"
   ]
  },
  {
   "cell_type": "code",
   "execution_count": 12,
   "id": "e7ad03ef",
   "metadata": {},
   "outputs": [],
   "source": [
    "def predict_y(X, w, b):\n",
    "    m = Y.shape[0]\n",
    "    y_probs = np.zeros(m)\n",
    "    for i in range(m):\n",
    "        y_probs[i] = sigmoid(w * X[i] + b)\n",
    "    y_preds = np.where(y_probs >= 0.5, 1, 0)\n",
    "    return y_probs, y_preds"
   ]
  },
  {
   "cell_type": "code",
   "execution_count": 13,
   "id": "c839dca4",
   "metadata": {},
   "outputs": [
    {
     "data": {
      "text/plain": [
       "(array([0.95257413, 0.99330715, 0.99908895, 0.99987661, 0.9999833 ,\n",
       "        0.99999969]),\n",
       " array([1, 1, 1, 1, 1, 1]))"
      ]
     },
     "execution_count": 13,
     "metadata": {},
     "output_type": "execute_result"
    }
   ],
   "source": [
    "y_probs, y_preds = predict_y(X, w, b)\n",
    "y_probs, y_preds"
   ]
  },
  {
   "cell_type": "code",
   "execution_count": 15,
   "id": "96b4b804",
   "metadata": {},
   "outputs": [
    {
     "data": {
      "text/plain": [
       "<matplotlib.legend.Legend at 0x206c97db2f0>"
      ]
     },
     "execution_count": 15,
     "metadata": {},
     "output_type": "execute_result"
    },
    {
     "data": {
      "image/png": "[encoded data removed]",
      "text/plain": [
       "<Figure size 500x300 with 1 Axes>"
      ]
     },
     "metadata": {},
     "output_type": "display_data"
    }
   ],
   "source": [
    "plt.figure(figsize=(5,3))\n",
    "plt.scatter(X, Y, color='b', label='y_true')\n",
    "plt.plot(X, y_probs, color='r', label='y_prob')\n",
    "plt.scatter(X, y_preds, color='r', marker='x', label='y_pred')\n",
    "plt.plot([X.min(), X.max()], [0.5]*2, linestyle='dotted', color='grey')\n",
    "plt.xlabel('X')\n",
    "plt.ylabel('y')\n",
    "plt.title('y_prob & y_pred given X')\n",
    "plt.legend()"
   ]
  },
  {
   "cell_type": "code",
   "execution_count": 16,
   "id": "6271a027",
   "metadata": {},
   "outputs": [],
   "source": [
    "def calc_cost(X, Y, w, b, elipson=1e-5):\n",
    "    m = X.shape[0]\n",
    "\n",
    "    cost = 0.\n",
    "\n",
    "    for i in range(m):\n",
    "        z = w * X[i] + b\n",
    "        f_wb = sigmoid(z)\n",
    "        cost += -Y[i] * np.log(f_wb + elipson) - (1 - Y[i]) * np.log(1 - f_wb + elipson)\n",
    "\n",
    "    cost /= m\n",
    "    return cost"
   ]
  },
  {
   "cell_type": "code",
   "execution_count": 18,
   "id": "dcef1363",
   "metadata": {},
   "outputs": [
    {
     "data": {
      "text/plain": [
       "3.1612121382754594"
      ]
     },
     "execution_count": 18,
     "metadata": {},
     "output_type": "execute_result"
    }
   ],
   "source": [
    "calc_cost(X, Y, w, b)\n"
   ]
  },
  {
   "cell_type": "code",
   "execution_count": 21,
   "id": "d6607841",
   "metadata": {},
   "outputs": [
    {
     "data": {
      "text/plain": [
       "0.8132362571042838"
      ]
     },
     "execution_count": 21,
     "metadata": {},
     "output_type": "execute_result"
    }
   ],
   "source": [
    "calc_cost(X, Y, w-2, b)\n"
   ]
  },
  {
   "cell_type": "code",
   "execution_count": 28,
   "id": "48eb4e3f",
   "metadata": {},
   "outputs": [
    {
     "data": {
      "text/plain": [
       "0.6931271807599427"
      ]
     },
     "execution_count": 28,
     "metadata": {},
     "output_type": "execute_result"
    }
   ],
   "source": [
    "calc_cost(X, Y, w-2, b-1)\n"
   ]
  },
  {
   "cell_type": "code",
   "execution_count": 33,
   "id": "bc790efe",
   "metadata": {},
   "outputs": [],
   "source": [
    "def calc_gradient(X, Y, w, b):\n",
    "    m = X.shape[0]\n",
    "\n",
    "    dj_dw = 0.\n",
    "    dj_db = 0.\n",
    "\n",
    "    for i in range(m):\n",
    "        z = w * X[i] + b\n",
    "        f_wb = sigmoid(z)\n",
    "        err = f_wb - Y[i]\n",
    "        dj_dw += err * X[i]\n",
    "        dj_db += err\n",
    "\n",
    "    dj_dw /= m\n",
    "    dj_db /= m\n",
    "\n",
    "    return dj_dw, dj_db"
   ]
  },
  {
   "cell_type": "code",
   "execution_count": 34,
   "id": "7bd9e1f7",
   "metadata": {},
   "outputs": [
    {
     "name": "stdout",
     "output_type": "stream",
     "text": [
      "initial w: 2, initial b: 1, initial_cost: 3.1612121382754594\n",
      "\n",
      "dj_dw: 1.322646007443648, dj_db: 0.49080497046728117\n",
      "\n",
      "final w: 1.9867735399255635, final b: 0.9950919502953272, final cost: 3.142094019957307\n"
     ]
    }
   ],
   "source": [
    "print(f\"initial w: {w}, initial b: {b}, initial_cost: {calc_cost(X, Y, w, b)}\\n\")\n",
    "\n",
    "dj_dw, dj_db = calc_gradient(X, Y, w, b)\n",
    "print(f\"dj_dw: {dj_dw}, dj_db: {dj_db}\\n\")\n",
    "\n",
    "alpha = 0.01\n",
    "w_new = w - alpha * dj_dw\n",
    "b_new = b - alpha * dj_db\n",
    "print(f\"final w: {w_new}, final b: {b_new}, final cost: {calc_cost(X, Y, w_new, b_new)}\")"
   ]
  },
  {
   "cell_type": "code",
   "execution_count": 35,
   "id": "aa634c6a",
   "metadata": {},
   "outputs": [],
   "source": [
    "# you see implementing one now further gradient descent of it \n",
    "\n",
    "def gradient_descent(X, Y, w, b, alpha=0.01, n_iters=1000, history_step=100):\n",
    "    history = {}\n",
    "\n",
    "    for iter in range(n_iters):\n",
    "        dj_dw, dj_db = calc_gradient(X, Y, w, b)\n",
    "        w = w - alpha * dj_dw\n",
    "        b = b - alpha * dj_db\n",
    "\n",
    "        if iter % history_step == 0:\n",
    "            cost = calc_cost(X, Y, w, b)\n",
    "            history[iter] = cost\n",
    "            print(f\"Iter\\t{iter}\\tCost\\t{cost}\")\n",
    "\n",
    "    return history, w, b"
   ]
  },
  {
   "cell_type": "code",
   "execution_count": 36,
   "id": "cc8b98b7",
   "metadata": {},
   "outputs": [
    {
     "name": "stdout",
     "output_type": "stream",
     "text": [
      "Iter\t0\tCost\t3.142094019957307\n",
      "Iter\t100\tCost\t1.285942626163848\n",
      "Iter\t200\tCost\t0.6938851801661925\n",
      "Iter\t300\tCost\t0.6793300259743481\n",
      "Iter\t400\tCost\t0.6674926620876231\n",
      "Iter\t500\tCost\t0.6568180723341241\n",
      "Iter\t600\tCost\t0.6471918522092764\n",
      "Iter\t700\tCost\t0.6385092836828874\n",
      "Iter\t800\tCost\t0.6306748836646581\n",
      "Iter\t900\tCost\t0.6236020625825583\n"
     ]
    }
   ],
   "source": [
    "history, w_new, b_new = gradient_descent(X, Y, w, b)\n"
   ]
  },
  {
   "cell_type": "code",
   "execution_count": 40,
   "id": "b10214b8",
   "metadata": {},
   "outputs": [
    {
     "data": {
      "image/png": "[encoded data removed]",
      "text/plain": [
       "<Figure size 600x400 with 1 Axes>"
      ]
     },
     "metadata": {},
     "output_type": "display_data"
    }
   ],
   "source": [
    "# Assuming X is 1D\n",
    "sorted_idx = np.argsort(X.flatten())  # Get sorted indices for smooth line\n",
    "\n",
    "# Sort values for clean line plotting\n",
    "X_sorted = X.flatten()[sorted_idx]\n",
    "y_probs_old_sorted = y_probs_old[sorted_idx]\n",
    "y_probs_new_sorted = y_probs_new[sorted_idx]\n",
    "\n",
    "plt.figure(figsize=(6,4))\n",
    "plt.scatter(X, Y, marker='o', color='blue', label='y_true')\n",
    "plt.scatter(X, y_probs_old, marker='x', color='red', label='y_probs_old')\n",
    "plt.scatter(X, y_probs_new, marker='x', color='green', label='y_probs_new')\n",
    "\n",
    "# Plot smooth prediction lines\n",
    "plt.plot(X_sorted, y_probs_old_sorted, color='red', linestyle='--', alpha=0.6)\n",
    "plt.plot(X_sorted, y_probs_new_sorted, color='green', linestyle='--', alpha=0.6)\n",
    "\n",
    "plt.legend()\n",
    "plt.title(\"y_true vs predicted probabilities\")\n",
    "plt.xlabel('X')\n",
    "plt.ylabel('y')\n",
    "plt.grid(True)\n",
    "plt.tight_layout()\n",
    "plt.show()\n"
   ]
  },
  {
   "cell_type": "code",
   "execution_count": null,
   "id": "4b1f259d",
   "metadata": {},
   "outputs": [],
   "source": [
    "# we can also make it for multiple features, but we need to change the code a bit\n",
    "# for example, we can use the same code for multiple features, but we need to change\n",
    "\n",
    "# the way we calculate the cost and gradient, and we need to use matrix operations instead of loops\n",
    "# we can also use the same code for multiple features, but we need to change the way\n",
    "\n",
    "# we calculate the cost and gradient, and we need to use matrix operations instead of loops\n",
    "\n"
   ]
  }
 ],
 "metadata": {
  "kernelspec": {
   "display_name": "Python 3",
   "language": "python",
   "name": "python3"
  },
  "language_info": {
   "codemirror_mode": {
    "name": "ipython",
    "version": 3
   },
   "file_extension": ".py",
   "mimetype": "text/x-python",
   "name": "python",
   "nbconvert_exporter": "python",
   "pygments_lexer": "ipython3",
   "version": "3.12.6"
  }
 },
 "nbformat": 4,
 "nbformat_minor": 5
}
